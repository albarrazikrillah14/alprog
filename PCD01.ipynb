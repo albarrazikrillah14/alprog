{
  "nbformat": 4,
  "nbformat_minor": 0,
  "metadata": {
    "colab": {
      "provenance": [],
      "mount_file_id": "1FQFM1clPSNu39tNaOb15L0DGvGnQrzYR",
      "authorship_tag": "ABX9TyN+w2tmJ6PWyrCiWwp5nNKO",
      "include_colab_link": true
    },
    "kernelspec": {
      "name": "python3",
      "display_name": "Python 3"
    },
    "language_info": {
      "name": "python"
    }
  },
  "cells": [
    {
      "cell_type": "markdown",
      "metadata": {
        "id": "view-in-github",
        "colab_type": "text"
      },
      "source": [
        "<a href=\"https://colab.research.google.com/github/albarrazikrillah14/ALPROG/blob/main/PCD01.ipynb\" target=\"_parent\"><img src=\"https://colab.research.google.com/assets/colab-badge.svg\" alt=\"Open In Colab\"/></a>"
      ]
    },
    {
      "cell_type": "code",
      "execution_count": null,
      "metadata": {
        "id": "9i8nTFDSW96L"
      },
      "outputs": [],
      "source": [
        "#import packages\n",
        "import numpy as np\n",
        "import cv2"
      ]
    },
    {
      "cell_type": "code",
      "source": [
        "#baca gambar\n",
        "gambar = cv2.imread('/content/drive/MyDrive/PCD/01/daun.jpg')"
      ],
      "metadata": {
        "id": "jKD27xWAXbhV"
      },
      "execution_count": null,
      "outputs": []
    },
    {
      "cell_type": "code",
      "source": [
        "#nilai dimensi citra\n",
        "baris, kolom, karakter = gambar.shape"
      ],
      "metadata": {
        "id": "NMmjfAipXK0u"
      },
      "execution_count": null,
      "outputs": []
    },
    {
      "cell_type": "code",
      "source": [
        "#membuat kanvas\n",
        "kanvas = np.zeros((baris, kolom, 1), np.uint8)\n",
        "\n",
        "for i in range(0, baris):\n",
        "  for j in range(0, kolom):\n",
        "    kanvas[i, j] =  0.2989 * gambar[i, j][2] + 0.5870 * gambar[i, j][1] + 0.1140 * gambar[i, j][0]\n",
        "    if(kanvas[i, j] < 150):\n",
        "      kanvas[i, j] = 255"
      ],
      "metadata": {
        "id": "LxZR9OsJddW5"
      },
      "execution_count": null,
      "outputs": []
    },
    {
      "cell_type": "code",
      "source": [
        "#transpose matrix\n",
        "transpose = np.zeros((kolom, baris, karakter), np.uint8)\n",
        "\n",
        "for i in range(0, baris):\n",
        "  for j in range(0, kolom):\n",
        "    transpose[j, i] = gambar[i, j]\n"
      ],
      "metadata": {
        "id": "GWvdpRX-fj04"
      },
      "execution_count": null,
      "outputs": []
    }
  ]
}